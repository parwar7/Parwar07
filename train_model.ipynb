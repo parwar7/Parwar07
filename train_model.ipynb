import yfinance as yf
import pandas as pd
import numpy as np
from ta.momentum import RSIIndicator
from ta.volatility import BollingerBands
from xgboost import XGBClassifier
import joblib

df = yf.download("DOGE-USD", interval="5m", period="7d")
df.dropna(inplace=True)

df['rsi'] = RSIIndicator(df['Close']).rsi()
bb = BollingerBands(df['Close'])
df['bb_width'] = bb.bollinger_wband()
df['return_5'] = df['Close'].pct_change(5)
for i in range(1, 6):
    df[f'lag_{i}'] = df['Close'].shift(i)

df['future_return'] = df['Close'].shift(-3) / df['Close'] - 1
df['target'] = (df['future_return'] > 0.01).astype(int)
df.dropna(inplace=True)

features = ['rsi', 'bb_width', 'return_5'] + [f'lag_{i}' for i in range(1, 6)]
X = df[features]
y = df['target']

model = XGBClassifier()
model.fit(X, y)

joblib.dump(model, 'dogeusdt_model.pkl')
